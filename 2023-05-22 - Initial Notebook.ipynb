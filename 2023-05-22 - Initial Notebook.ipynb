{
 "cells": [
  {
   "cell_type": "code",
   "execution_count": 61,
   "metadata": {},
   "outputs": [],
   "source": [
    "import openai"
   ]
  },
  {
   "cell_type": "code",
   "execution_count": 62,
   "metadata": {},
   "outputs": [],
   "source": [
    "import os\n",
    "from functions import load_env_vars\n",
    "\n",
    "load_env_vars()\n",
    "\n",
    "api_key = os.environ.get(\"OPENAI_API_KEY\")\n",
    "if not api_key:\n",
    "    print(\"No key found\")\n",
    "\n",
    "openai.api_key = api_key"
   ]
  },
  {
   "cell_type": "code",
   "execution_count": 63,
   "metadata": {},
   "outputs": [],
   "source": [
    "MODEL = \"gpt-3.5-turbo\"\n",
    "\n",
    "messages = [\n",
    "            {\"role\": \"system\", \"content\": \"You are a coding assistant in Python.\"},\n",
    "            {\"role\": \"user\", \"content\": \"\"},\n",
    "        ]"
   ]
  },
  {
   "cell_type": "code",
   "execution_count": 64,
   "metadata": {},
   "outputs": [],
   "source": [
    "\n",
    "response = {}\n",
    "\n",
    "def AddToHistory(role_,content_):\n",
    "    messages.append({\"role\":role_,\"content\":content_})\n",
    "\n",
    "def AskGPT(prompt):\n",
    "    messages[1][\"content\"] = prompt #changes question prompt in messages\n",
    "    return openai.ChatCompletion.create(\n",
    "                model=MODEL,\n",
    "                messages=messages,\n",
    "                temperature=0.4\n",
    "            )\n",
    "\n",
    "def Question(prompt):\n",
    "    global response\n",
    "    response = AskGPT(prompt)\n",
    "    AddToHistory(response[\"choices\"][0][\"message\"][\"role\"],response[\"choices\"][0][\"message\"][\"content\"]) #adds response to messages, so GPT can remember previous responses\n",
    "    return(response[\"choices\"][0][\"message\"])\n"
   ]
  }
 ],
 "metadata": {
  "kernelspec": {
   "display_name": "Python 3",
   "language": "python",
   "name": "python3"
  },
  "language_info": {
   "codemirror_mode": {
    "name": "ipython",
    "version": 3
   },
   "file_extension": ".py",
   "mimetype": "text/x-python",
   "name": "python",
   "nbconvert_exporter": "python",
   "pygments_lexer": "ipython3",
   "version": "3.11.3"
  },
  "orig_nbformat": 4
 },
 "nbformat": 4,
 "nbformat_minor": 2
}
