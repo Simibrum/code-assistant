{
 "cells": [
  {
   "cell_type": "code",
   "execution_count": 1,
   "metadata": {},
   "outputs": [],
   "source": [
    "import openai"
   ]
  },
  {
   "cell_type": "code",
   "execution_count": 7,
   "metadata": {},
   "outputs": [],
   "source": [
    "import os\n",
    "from functions import load_env_vars\n",
    "\n",
    "load_env_vars()\n",
    "\n",
    "api_key = os.environ.get(\"OPENAI_API_KEY\")\n",
    "if not api_key:\n",
    "    print(\"No key found\")\n",
    "\n",
    "openai.api_key = api_key"
   ]
  },
  {
   "cell_type": "code",
   "execution_count": 2,
   "metadata": {},
   "outputs": [],
   "source": [
    "MODEL = \"gpt-3.5-turbo\"\n",
    "\n",
    "messages = [\n",
    "            {\"role\": \"system\", \"content\": \"You are a coding assistant in Python.\"},\n",
    "            {\"role\": \"user\", \"content\": \"generate a python function to add two numbers\"},\n",
    "            \n",
    "        ]"
   ]
  },
  {
   "cell_type": "code",
   "execution_count": 9,
   "metadata": {},
   "outputs": [
    {
     "name": "stdout",
     "output_type": "stream",
     "text": [
      "{\n",
      "  \"choices\": [\n",
      "    {\n",
      "      \"finish_reason\": \"stop\",\n",
      "      \"index\": 0,\n",
      "      \"message\": {\n",
      "        \"content\": \"Here's a simple Python function to add two numbers:\\n\\n```python\\ndef add_numbers(num1, num2):\\n    sum = num1 + num2\\n    return sum\\n```\\n\\nYou can call this function by passing two numbers as arguments:\\n\\n```python\\nresult = add_numbers(5, 10)\\nprint(result)  # Output: 15\\n```\",\n",
      "        \"role\": \"assistant\"\n",
      "      }\n",
      "    }\n",
      "  ],\n",
      "  \"created\": 1684757486,\n",
      "  \"id\": \"chatcmpl-7IyfmavvpgKMtRisAoe5jTlHntI0u\",\n",
      "  \"model\": \"gpt-3.5-turbo-0301\",\n",
      "  \"object\": \"chat.completion\",\n",
      "  \"usage\": {\n",
      "    \"completion_tokens\": 74,\n",
      "    \"prompt_tokens\": 29,\n",
      "    \"total_tokens\": 103\n",
      "  }\n",
      "}\n"
     ]
    }
   ],
   "source": [
    "response = openai.ChatCompletion.create(\n",
    "                model=MODEL,\n",
    "                messages=messages,\n",
    "                temperature=0.4\n",
    "            )\n",
    "print(response)"
   ]
  },
  {
   "cell_type": "code",
   "execution_count": 10,
   "metadata": {},
   "outputs": [
    {
     "name": "stdout",
     "output_type": "stream",
     "text": [
      "Here's a simple Python function to add two numbers:\n",
      "\n",
      "```python\n",
      "def add_numbers(num1, num2):\n",
      "    sum = num1 + num2\n",
      "    return sum\n",
      "```\n",
      "\n",
      "You can call this function by passing two numbers as arguments:\n",
      "\n",
      "```python\n",
      "result = add_numbers(5, 10)\n",
      "print(result)  # Output: 15\n",
      "```\n"
     ]
    }
   ],
   "source": [
    "print(response['choices'][0]['message']['content'])"
   ]
  }
 ],
 "metadata": {
  "kernelspec": {
   "display_name": "Python 3",
   "language": "python",
   "name": "python3"
  },
  "language_info": {
   "codemirror_mode": {
    "name": "ipython",
    "version": 3
   },
   "file_extension": ".py",
   "mimetype": "text/x-python",
   "name": "python",
   "nbconvert_exporter": "python",
   "pygments_lexer": "ipython3",
   "version": "3.11.3"
  },
  "orig_nbformat": 4
 },
 "nbformat": 4,
 "nbformat_minor": 2
}
